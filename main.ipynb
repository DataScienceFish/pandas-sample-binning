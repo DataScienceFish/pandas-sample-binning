{
 "cells": [
  {
   "cell_type": "markdown",
   "metadata": {},
   "source": [
    "# python-pandas 数据分箱"
   ]
  },
  {
   "cell_type": "markdown",
   "metadata": {},
   "source": [
    "## 导入模块"
   ]
  },
  {
   "cell_type": "code",
   "execution_count": 25,
   "metadata": {
    "ExecuteTime": {
     "end_time": "2023-07-30T04:05:13.752285Z",
     "start_time": "2023-07-30T04:05:13.742277Z"
    }
   },
   "outputs": [],
   "source": [
    "import pandas as pd \n",
    "import numpy as np\n",
    "import matplotlib\n",
    "import matplotlib.pyplot as plt"
   ]
  },
  {
   "cell_type": "code",
   "execution_count": 2,
   "metadata": {
    "ExecuteTime": {
     "end_time": "2023-07-29T14:32:13.051083Z",
     "start_time": "2023-07-29T14:32:12.542713Z"
    }
   },
   "outputs": [],
   "source": [
    "%matplotlib inline"
   ]
  },
  {
   "cell_type": "markdown",
   "metadata": {},
   "source": [
    "## 简单案例"
   ]
  },
  {
   "cell_type": "code",
   "execution_count": 3,
   "metadata": {
    "ExecuteTime": {
     "end_time": "2023-07-29T14:32:15.247491Z",
     "start_time": "2023-07-29T14:32:15.233480Z"
    }
   },
   "outputs": [],
   "source": [
    "x = [0, 1, 1, 2, 3, 7]"
   ]
  },
  {
   "cell_type": "code",
   "execution_count": 4,
   "metadata": {
    "ExecuteTime": {
     "end_time": "2023-07-29T14:32:15.590512Z",
     "start_time": "2023-07-29T14:32:15.571495Z"
    }
   },
   "outputs": [
    {
     "data": {
      "text/plain": [
       "[(-0.007, 2.333], (-0.007, 2.333], (-0.007, 2.333], (-0.007, 2.333], (2.333, 4.667], (4.667, 7.0]]\n",
       "Categories (3, interval[float64]): [(-0.007, 2.333] < (2.333, 4.667] < (4.667, 7.0]]"
      ]
     },
     "execution_count": 4,
     "metadata": {},
     "output_type": "execute_result"
    }
   ],
   "source": [
    "# bins=3, 其余默认:\n",
    "pd.cut(x, 3)"
   ]
  },
  {
   "cell_type": "code",
   "execution_count": 5,
   "metadata": {
    "ExecuteTime": {
     "end_time": "2023-07-29T14:32:16.198242Z",
     "start_time": "2023-07-29T14:32:16.191235Z"
    }
   },
   "outputs": [
    {
     "name": "stdout",
     "output_type": "stream",
     "text": [
      "[(-0.007, 2.333], (-0.007, 2.333], (-0.007, 2.333], (-0.007, 2.333], (2.333, 4.667], (4.667, 7.0]]\n",
      "Categories (3, interval[float64]): [(-0.007, 2.333] < (2.333, 4.667] < (4.667, 7.0]]\n",
      "--------------------\n",
      "[-0.007       2.33333333  4.66666667  7.        ]\n"
     ]
    }
   ],
   "source": [
    "# bins=3, retbins=True: \n",
    "intervals, splits = pd.cut(x, 3, retbins=True)\n",
    "print(intervals)\n",
    "print(\"-\"*20)\n",
    "print(splits)"
   ]
  },
  {
   "cell_type": "code",
   "execution_count": 6,
   "metadata": {
    "ExecuteTime": {
     "end_time": "2023-07-29T14:32:17.300220Z",
     "start_time": "2023-07-29T14:32:17.291213Z"
    }
   },
   "outputs": [
    {
     "data": {
      "text/plain": [
       "['bad', 'bad', 'bad', 'bad', 'medium', 'good']\n",
       "Categories (3, object): ['bad' < 'medium' < 'good']"
      ]
     },
     "execution_count": 6,
     "metadata": {},
     "output_type": "execute_result"
    }
   ],
   "source": [
    "pd.cut(x, 3, labels=[\"bad\", \"medium\", \"good\"])"
   ]
  },
  {
   "cell_type": "code",
   "execution_count": 7,
   "metadata": {
    "ExecuteTime": {
     "end_time": "2023-07-29T14:32:17.609424Z",
     "start_time": "2023-07-29T14:32:17.599415Z"
    }
   },
   "outputs": [
    {
     "data": {
      "text/plain": [
       "array([0, 0, 0, 1, 1, 3], dtype=int64)"
      ]
     },
     "execution_count": 7,
     "metadata": {},
     "output_type": "execute_result"
    }
   ],
   "source": [
    "pd.cut(x, bins=4, labels=False)"
   ]
  },
  {
   "cell_type": "code",
   "execution_count": 8,
   "metadata": {
    "ExecuteTime": {
     "end_time": "2023-07-29T14:32:18.392147Z",
     "start_time": "2023-07-29T14:32:18.383140Z"
    }
   },
   "outputs": [
    {
     "data": {
      "text/plain": [
       "[(-0.007, 2.333], (-0.007, 2.333], (-0.007, 2.333], (-0.007, 2.333], (2.333, 4.667], (4.667, 7.0]]\n",
       "Categories (3, interval[float64]): [(-0.007, 2.333] < (2.333, 4.667] < (4.667, 7.0]]"
      ]
     },
     "execution_count": 8,
     "metadata": {},
     "output_type": "execute_result"
    }
   ],
   "source": [
    "pd.cut(x, bins=3, duplicates='drop')"
   ]
  },
  {
   "cell_type": "code",
   "execution_count": 9,
   "metadata": {
    "ExecuteTime": {
     "end_time": "2023-07-29T14:32:18.706077Z",
     "start_time": "2023-07-29T14:32:18.698071Z"
    }
   },
   "outputs": [
    {
     "data": {
      "text/plain": [
       "[(-1, 2], (-1, 2], (-1, 2], (-1, 2], (2, 5], (5, 8]]\n",
       "Categories (3, interval[int64]): [(-1, 2] < (2, 5] < (5, 8]]"
      ]
     },
     "execution_count": 9,
     "metadata": {},
     "output_type": "execute_result"
    }
   ],
   "source": [
    "pd.cut(x, [-1, 2, 5, 8])"
   ]
  },
  {
   "cell_type": "code",
   "execution_count": 17,
   "metadata": {
    "ExecuteTime": {
     "end_time": "2023-07-29T14:38:33.940163Z",
     "start_time": "2023-07-29T14:38:33.929153Z"
    }
   },
   "outputs": [
    {
     "data": {
      "text/plain": [
       "IntervalIndex([(0, 1], (2, 3], (4, 5]],\n",
       "              closed='right',\n",
       "              dtype='interval[int64]')"
      ]
     },
     "execution_count": 17,
     "metadata": {},
     "output_type": "execute_result"
    }
   ],
   "source": [
    "bins"
   ]
  },
  {
   "cell_type": "code",
   "execution_count": 16,
   "metadata": {
    "ExecuteTime": {
     "end_time": "2023-07-29T14:38:30.499335Z",
     "start_time": "2023-07-29T14:38:30.491328Z"
    }
   },
   "outputs": [
    {
     "data": {
      "text/plain": [
       "[NaN, (0.0, 1.0], (0.0, 1.0], NaN, (2.0, 3.0], NaN]\n",
       "Categories (3, interval[int64]): [(0, 1] < (2, 3] < (4, 5]]"
      ]
     },
     "execution_count": 16,
     "metadata": {},
     "output_type": "execute_result"
    }
   ],
   "source": [
    "bins = pd.IntervalIndex.from_tuples([(0, 1), (2, 3), (4, 5)])\n",
    "pd.cut(x, bins=bins)"
   ]
  },
  {
   "cell_type": "markdown",
   "metadata": {},
   "source": [
    "## 实战演练：每日个股涨跌幅分箱统计\n",
    "\n",
    "+ 需求分析：给定每日N只股票的涨跌幅，按照一定的区间进行分箱，最后统计各区间内个股数量并按照“涨、跌、平”三种状态分色作图。"
   ]
  },
  {
   "cell_type": "markdown",
   "metadata": {},
   "source": [
    "### 读入样本数据"
   ]
  },
  {
   "cell_type": "code",
   "execution_count": 23,
   "metadata": {
    "ExecuteTime": {
     "end_time": "2023-07-30T03:01:26.541575Z",
     "start_time": "2023-07-30T03:01:26.511548Z"
    }
   },
   "outputs": [
    {
     "data": {
      "text/html": [
       "<div>\n",
       "<style scoped>\n",
       "    .dataframe tbody tr th:only-of-type {\n",
       "        vertical-align: middle;\n",
       "    }\n",
       "\n",
       "    .dataframe tbody tr th {\n",
       "        vertical-align: top;\n",
       "    }\n",
       "\n",
       "    .dataframe thead th {\n",
       "        text-align: right;\n",
       "    }\n",
       "</style>\n",
       "<table border=\"1\" class=\"dataframe\">\n",
       "  <thead>\n",
       "    <tr style=\"text-align: right;\">\n",
       "      <th></th>\n",
       "      <th>stkcd</th>\n",
       "      <th>stknme</th>\n",
       "      <th>ret</th>\n",
       "    </tr>\n",
       "  </thead>\n",
       "  <tbody>\n",
       "    <tr>\n",
       "      <th>0</th>\n",
       "      <td>000001.SZ</td>\n",
       "      <td>平安银行</td>\n",
       "      <td>0.043404</td>\n",
       "    </tr>\n",
       "    <tr>\n",
       "      <th>1</th>\n",
       "      <td>000002.SZ</td>\n",
       "      <td>万科A</td>\n",
       "      <td>0.033944</td>\n",
       "    </tr>\n",
       "    <tr>\n",
       "      <th>2</th>\n",
       "      <td>000004.SZ</td>\n",
       "      <td>国华网安</td>\n",
       "      <td>-0.022751</td>\n",
       "    </tr>\n",
       "    <tr>\n",
       "      <th>3</th>\n",
       "      <td>000005.SZ</td>\n",
       "      <td>ST星源</td>\n",
       "      <td>0.015504</td>\n",
       "    </tr>\n",
       "    <tr>\n",
       "      <th>4</th>\n",
       "      <td>000006.SZ</td>\n",
       "      <td>深振业A</td>\n",
       "      <td>0.010121</td>\n",
       "    </tr>\n",
       "  </tbody>\n",
       "</table>\n",
       "</div>"
      ],
      "text/plain": [
       "       stkcd stknme       ret\n",
       "0  000001.SZ   平安银行  0.043404\n",
       "1  000002.SZ    万科A  0.033944\n",
       "2  000004.SZ   国华网安 -0.022751\n",
       "3  000005.SZ   ST星源  0.015504\n",
       "4  000006.SZ   深振业A  0.010121"
      ]
     },
     "execution_count": 23,
     "metadata": {},
     "output_type": "execute_result"
    }
   ],
   "source": [
    "df = pd.read_csv('./ret.csv')\n",
    "df.head()\n",
    "# df.info()"
   ]
  },
  {
   "cell_type": "code",
   "execution_count": 77,
   "metadata": {
    "ExecuteTime": {
     "end_time": "2023-07-30T05:11:54.001657Z",
     "start_time": "2023-07-30T05:11:53.993651Z"
    }
   },
   "outputs": [
    {
     "data": {
      "text/plain": [
       "159"
      ]
     },
     "execution_count": 77,
     "metadata": {},
     "output_type": "execute_result"
    }
   ],
   "source": [
    "# 因为有平盘的股票，统计当日涨跌幅=0.0的个股数量简单查看\n",
    "df[df['ret']==0.0].shape[0]"
   ]
  },
  {
   "cell_type": "code",
   "execution_count": 19,
   "metadata": {
    "ExecuteTime": {
     "end_time": "2023-07-29T14:40:47.589032Z",
     "start_time": "2023-07-29T14:40:47.578021Z"
    }
   },
   "outputs": [],
   "source": [
    "# 设计分箱序列\n",
    "# 需要注意的是序列的首尾需要分别小于和大于数值序列的最小和最大值\n",
    "bins = [-1, -0.07, -0.05, -0.02, -0.0000001, 0.00000001, 0.02, 0.05, 0.07, 1]"
   ]
  },
  {
   "cell_type": "markdown",
   "metadata": {},
   "source": [
    "### 统计各区间内个股数量"
   ]
  },
  {
   "cell_type": "code",
   "execution_count": 63,
   "metadata": {
    "ExecuteTime": {
     "end_time": "2023-07-30T04:26:39.436714Z",
     "start_time": "2023-07-30T04:26:39.427706Z"
    }
   },
   "outputs": [
    {
     "data": {
      "text/plain": [
       "0      19\n",
       "1      32\n",
       "2     274\n",
       "3    1113\n",
       "4     159\n",
       "5    2848\n",
       "6     591\n",
       "7     101\n",
       "8     104\n",
       "Name: ret, dtype: int64"
      ]
     },
     "execution_count": 63,
     "metadata": {},
     "output_type": "execute_result"
    }
   ],
   "source": [
    "s_ret_cut_count = pd.cut(df['ret'], bins=bins,\n",
    "                         labels=False).value_counts().sort_index()\n",
    "s_ret_cut_count"
   ]
  },
  {
   "cell_type": "markdown",
   "metadata": {},
   "source": [
    "### 设置横坐标轴标签"
   ]
  },
  {
   "cell_type": "code",
   "execution_count": 64,
   "metadata": {
    "ExecuteTime": {
     "end_time": "2023-07-30T04:26:40.143385Z",
     "start_time": "2023-07-30T04:26:40.132374Z"
    }
   },
   "outputs": [],
   "source": [
    "x_label_dict = {\n",
    "    0: '(-100%, -7%]',\n",
    "    1: '(-7%,-5%]',\n",
    "    2: '(-5%,-2%]',\n",
    "    3: '(-2%,0%]',\n",
    "    4: '0%',\n",
    "    5:  '(0%,2%]',\n",
    "    6: '(2%,5%]',\n",
    "    7: '(5%,7%]',\n",
    "    8: '(7%, 100%)',\n",
    "}\n",
    "\n",
    "x_label = list(x_label_dict.values())\n",
    "\n",
    "s_ret_cut_count.index = s_ret_cut_count.index.map(x_label_dict)"
   ]
  },
  {
   "cell_type": "markdown",
   "metadata": {},
   "source": [
    "### 简单做图"
   ]
  },
  {
   "cell_type": "code",
   "execution_count": 78,
   "metadata": {
    "ExecuteTime": {
     "end_time": "2023-07-30T05:14:30.545649Z",
     "start_time": "2023-07-30T05:14:30.433844Z"
    }
   },
   "outputs": [
    {
     "data": {
      "text/plain": [
       "<AxesSubplot:>"
      ]
     },
     "execution_count": 78,
     "metadata": {},
     "output_type": "execute_result"
    },
    {
     "data": {
      "image/png": "[encoded data removed]",
      "text/plain": [
       "<Figure size 640x480 with 1 Axes>"
      ]
     },
     "metadata": {},
     "output_type": "display_data"
    }
   ],
   "source": [
    "s_ret_cut_count.plot.bar()"
   ]
  },
  {
   "cell_type": "markdown",
   "metadata": {},
   "source": [
    "### 复杂作图"
   ]
  },
  {
   "cell_type": "code",
   "execution_count": 79,
   "metadata": {
    "ExecuteTime": {
     "end_time": "2023-07-30T05:15:59.195242Z",
     "start_time": "2023-07-30T05:15:58.880742Z"
    }
   },
   "outputs": [
    {
     "data": {
      "image/png": "[encoded data removed]",
      "text/plain": [
       "<Figure size 800x600 with 1 Axes>"
      ]
     },
     "metadata": {},
     "output_type": "display_data"
    }
   ],
   "source": [
    "fig, ax = plt.subplots(figsize=(8, 6))\n",
    "\n",
    "# 差异化配色\n",
    "colors = ['#1B2C74'] * 4 + ['#BABABA'] + ['#E16860'] * 4\n",
    "\n",
    "# 画图\n",
    "rects = ax.bar(\n",
    "    x=s_ret_cut_count.index, \n",
    "    height=s_ret_cut_count.values, \n",
    "    color=colors\n",
    ")\n",
    "\n",
    "# 增加柱标签\n",
    "ax.bar_label(rects, padding=3)\n",
    "\n",
    "# 坐标轴旋转30°\n",
    "plt.xticks(rotation=30)\n",
    "\n",
    "# 全局修改横坐标轴配色\n",
    "# plt.tick_params(axis='x', colors='#4A5E95')\n",
    "\n",
    "# 根据范围差异化横坐标轴配色\n",
    "for i in range(9):\n",
    "    if i <= 3:\n",
    "        color = '#4A5E95'\n",
    "    elif i >= 5:\n",
    "        color = '#D15F7A'\n",
    "    else:\n",
    "        color = '#BABABA'\n",
    "    ax.get_xticklabels()[i].set_color(color)\n",
    "    \n",
    "plt.show()\n",
    "# plt.savefig('updown.png')"
   ]
  },
  {
   "cell_type": "code",
   "execution_count": null,
   "metadata": {},
   "outputs": [],
   "source": []
  }
 ],
 "metadata": {
  "kernelspec": {
   "display_name": "Python 3 (ipykernel)",
   "language": "python",
   "name": "python3"
  },
  "language_info": {
   "codemirror_mode": {
    "name": "ipython",
    "version": 3
   },
   "file_extension": ".py",
   "mimetype": "text/x-python",
   "name": "python",
   "nbconvert_exporter": "python",
   "pygments_lexer": "ipython3",
   "version": "3.9.17"
  },
  "toc": {
   "base_numbering": 1,
   "nav_menu": {},
   "number_sections": true,
   "sideBar": true,
   "skip_h1_title": false,
   "title_cell": "Table of Contents",
   "title_sidebar": "Contents",
   "toc_cell": false,
   "toc_position": {
    "height": "calc(100% - 180px)",
    "left": "10px",
    "top": "150px",
    "width": "384px"
   },
   "toc_section_display": true,
   "toc_window_display": true
  }
 },
 "nbformat": 4,
 "nbformat_minor": 2
}
